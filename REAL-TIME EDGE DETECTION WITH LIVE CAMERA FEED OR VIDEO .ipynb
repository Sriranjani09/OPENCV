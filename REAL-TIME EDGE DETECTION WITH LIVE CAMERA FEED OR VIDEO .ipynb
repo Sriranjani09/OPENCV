{
 "cells": [
  {
   "cell_type": "markdown",
   "id": "8265b877",
   "metadata": {},
   "source": [
    "# Objective: This task involves implementing real-time edge detection using the Sobel and Laplacian filters on a live camera feed or a video. This will allow understanding how these filters can dynamically detect edges in moving scenes.\n"
   ]
  },
  {
   "cell_type": "code",
   "execution_count": 1,
   "id": "1b92c6da",
   "metadata": {},
   "outputs": [],
   "source": [
    "import cv2"
   ]
  },
  {
   "cell_type": "code",
   "execution_count": 2,
   "id": "a615d9ea",
   "metadata": {},
   "outputs": [],
   "source": [
    "cap = cv2.VideoCapture(0)"
   ]
  },
  {
   "cell_type": "code",
   "execution_count": 3,
   "id": "54bc145b",
   "metadata": {},
   "outputs": [],
   "source": [
    "\n",
    "cap = cv2.VideoCapture(0)\n",
    "while(True):\n",
    "    ret, frame = cap.read()\n",
    "    if not ret:\n",
    "        break\n",
    "    \n",
    "    gray = cv2.cvtColor(frame, cv2.COLOR_BGR2GRAY)\n",
    "    \n",
    "    sobelx = cv2.Sobel(gray, cv2.CV_64F, 1, 0, ksize=5)\n",
    "    sobely = cv2.Sobel(gray, cv2.CV_64F, 0, 1, ksize=5)\n",
    "    sobel_combined = cv2.sqrt(cv2.addWeighted(sobelx, 0.5, sobely, 0.5, 0))\n",
    "    \n",
    "    laplacian = cv2.Laplacian(gray, cv2.CV_64F)\n",
    "    \n",
    "    cv2.imshow('Original', frame)\n",
    "    cv2.imshow('Sobel Edge Detection', sobel_combined)\n",
    "    cv2.imshow('Laplacian Edge Detection', laplacian)\n",
    "    \n",
    "    if cv2.waitKey(1) & 0xFF == ord('q'):\n",
    "        break"
   ]
  },
  {
   "cell_type": "code",
   "execution_count": null,
   "id": "fc80e58b",
   "metadata": {},
   "outputs": [],
   "source": []
  }
 ],
 "metadata": {
  "kernelspec": {
   "display_name": "Python 3 (ipykernel)",
   "language": "python",
   "name": "python3"
  },
  "language_info": {
   "codemirror_mode": {
    "name": "ipython",
    "version": 3
   },
   "file_extension": ".py",
   "mimetype": "text/x-python",
   "name": "python",
   "nbconvert_exporter": "python",
   "pygments_lexer": "ipython3",
   "version": "3.10.11"
  }
 },
 "nbformat": 4,
 "nbformat_minor": 5
}
